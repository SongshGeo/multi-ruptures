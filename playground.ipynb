{
 "cells": [
  {
   "cell_type": "code",
   "execution_count": null,
   "id": "3199ef46",
   "metadata": {},
   "outputs": [],
   "source": [
    "%load_ext autoreload\n",
    "%autoreload 2\n",
    "%matplotlib inline\n",
    "%config InlineBackend.figure_format = 'retina'\n",
    "from IPython.core.interactiveshell import InteractiveShell\n",
    "\n",
    "InteractiveShell.ast_node_interactivity = \"all\"\n",
    "\n",
    "from pathlib import Path\n",
    "import pandas as pd\n",
    "import numpy as np"
   ]
  },
  {
   "cell_type": "code",
   "execution_count": null,
   "id": "08a08ec7",
   "metadata": {},
   "outputs": [],
   "source": [
    "from src.api import iterative_pettitt\n",
    "from tests.helper import generate_testing_numpy_data\n",
    "import matplotlib.pyplot as plt\n",
    "from src.viz import plot_series\n",
    "\n",
    "breakpoints = [100, 200]\n",
    "\n",
    "data = generate_testing_numpy_data(\n",
    "    n_points=300, segments=breakpoints, means=[10, 15, 8]\n",
    ")\n",
    "\n",
    "# Detect breakpoints\n",
    "detected_breakpoints = iterative_pettitt(data)\n",
    "print(\"Detected breakpoints:\", detected_breakpoints)\n",
    "print(\"True breakpoints:\", breakpoints)\n",
    "\n",
    "# Visualize\n",
    "plot_series(data, detected_breakpoints)\n",
    "plt.show();"
   ]
  },
  {
   "cell_type": "code",
   "execution_count": null,
   "id": "4381364f",
   "metadata": {},
   "outputs": [],
   "source": [
    "from src.api import detect_breakpoints\n",
    "import pandas as pd\n",
    "\n",
    "series = pd.Series(data, index=pd.date_range(start=\"2024-01-01\", periods=len(data)))\n",
    "\n",
    "# Detect breakpoints\n",
    "detected_breakpoints = iterative_pettitt(series)\n",
    "print(\"Detected breakpoints:\", detected_breakpoints)\n",
    "print(\"True breakpoints:\", breakpoints)\n",
    "\n",
    "# Visualize\n",
    "plot_series(series, detected_breakpoints)\n",
    "plt.show();"
   ]
  }
 ],
 "metadata": {
  "kernelspec": {
   "display_name": "Python 3",
   "language": "python",
   "name": "python3"
  },
  "language_info": {
   "codemirror_mode": {
    "name": "ipython",
    "version": 3
   },
   "file_extension": ".py",
   "mimetype": "text/x-python",
   "name": "python",
   "nbconvert_exporter": "python",
   "pygments_lexer": "ipython3",
   "version": "3.11.2"
  }
 },
 "nbformat": 4,
 "nbformat_minor": 5
}
